{
 "cells": [
  {
   "cell_type": "code",
   "execution_count": null,
   "metadata": {
    "collapsed": false
   },
   "outputs": [],
   "source": [
    "import numpy as np\n",
    "import librosa\n",
    "import matplotlib.pyplot as plt\n",
    "import pretty_midi\n",
    "import midi\n",
    "import matplotlib.patches\n",
    "import matplotlib\n",
    "import djitw\n",
    "import scipy.spatial\n",
    "import librosa\n",
    "matplotlib.rc('font',**{'size':16})\n",
    "%matplotlib inline"
   ]
  },
  {
   "cell_type": "code",
   "execution_count": null,
   "metadata": {
    "collapsed": true
   },
   "outputs": [],
   "source": [
    "BLUE = '#28ABE3'\n",
    "GREEN = '#1FDA9A'\n",
    "ORANGE = '#E8B71A'\n",
    "GREY = '#CCCCCC'\n",
    "FIGSIZE = (9, 6)"
   ]
  }
 ],
 "metadata": {
  "kernelspec": {
   "display_name": "Python 2",
   "language": "python",
   "name": "python2"
  },
  "language_info": {
   "codemirror_mode": {
    "name": "ipython",
    "version": 2
   },
   "file_extension": ".py",
   "mimetype": "text/x-python",
   "name": "python",
   "nbconvert_exporter": "python",
   "pygments_lexer": "ipython2",
   "version": "2.7.11"
  }
 },
 "nbformat": 4,
 "nbformat_minor": 0
}
