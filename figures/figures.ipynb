{
 "cells": [
  {
   "cell_type": "code",
   "execution_count": null,
   "metadata": {
    "collapsed": false
   },
   "outputs": [],
   "source": [
    "import numpy as np\n",
    "import librosa\n",
    "import matplotlib.pyplot as plt\n",
    "import pretty_midi\n",
    "import midi\n",
    "import matplotlib.patches\n",
    "import matplotlib\n",
    "import djitw\n",
    "import scipy.spatial\n",
    "import librosa\n",
    "matplotlib.rc('font',**{'size':16})\n",
    "%matplotlib inline"
   ]
  },
  {
   "cell_type": "code",
   "execution_count": null,
   "metadata": {
    "collapsed": true
   },
   "outputs": [],
   "source": [
    "BLUE = '#28ABE3'\n",
    "GREEN = '#1FDA9A'\n",
    "ORANGE = '#E8B71A'\n",
    "GREY = '#CCCCCC'\n",
    "FIGSIZE = (9, 6)"
   ]
  },
  {
   "cell_type": "code",
   "execution_count": null,
   "metadata": {
    "collapsed": false
   },
   "outputs": [],
   "source": [
    "plt.figure(figsize=(FIGSIZE[0], FIGSIZE[1]*2))\n",
    "ax = plt.gca()\n",
    "t = np.linspace(.1, .9, 9)\n",
    "plt.vlines(t, 0, 1., linestyles='dashed', alpha=.3, zorder=-1)\n",
    "\n",
    "vc = .9\n",
    "words = 'The quick brown fox jumps over the lazy dog'.split(' ')\n",
    "for x, word in zip(t, words):\n",
    "    ax.text(x, vc, word, {'family': 'monospace', 'size': 12}, ha='center', va='center')\n",
    "\n",
    "vc = .7\n",
    "signal = .08*np.sin(2.4*t*np.pi) + vc\n",
    "plt.plot(t, signal, 'k.', ms=10)\n",
    "plt.vlines(t, [s if s > vc else vc for s in signal],\n",
    "           [s if s < vc else vc for s in signal], lw=1.2) \n",
    "\n",
    "vc = .5\n",
    "a, _ = librosa.load('data/1_A.wav')\n",
    "N = a.shape[0]\n",
    "for x in t:\n",
    "    frame = a[(x - .1)*N:(x + .1)*N]\n",
    "    spectrum = np.abs(np.fft.rfft(frame))\n",
    "    spectrum = spectrum[:spectrum.shape[0]/3]\n",
    "    spectrum = spectrum/3000.\n",
    "    plt.plot(x + spectrum, np.linspace(vc - .08, vc + .08, spectrum.shape[0]), 'k')\n",
    "\n",
    "axis = plt.axis()\n",
    "vc = .3\n",
    "w = .02\n",
    "h = .08\n",
    "dna_names = ['T', 'A', 'C', 'G']\n",
    "for x in t:\n",
    "    dna = np.zeros((4, 1))\n",
    "    n = np.random.randint(0, 4)\n",
    "    dna[n] = 1\n",
    "    plt.imshow(dna, interpolation='nearest', extent=(x - w, x + w, vc - h/2, vc + h), cmap=plt.cm.gray)\n",
    "    plt.plot((x - w, x - w, x + w, x + w, x - w), (vc - h/2, vc + h, vc + h, vc - h/2, vc - h/2), 'k')\n",
    "    ax.text(x, vc - h/2 - .01, dna_names[n], {'family': 'monospace', 'size': 16}, ha='center', va='top')\n",
    "plt.axis(axis)\n",
    "\n",
    "vc = .1\n",
    "for n, x in enumerate(t):\n",
    "    im = plt.imread('data/1_video/{}.png'.format(n + 1))\n",
    "    plt.imshow(im, interpolation='nearest', extent=(x - .03, x + .03, vc - .08, vc + .08))\n",
    "\n",
    "plt.xlim([0.05, 0.95])\n",
    "plt.ylim([0, 1])\n",
    "plt.yticks([])\n",
    "plt.axis('off')\n",
    "\n",
    "vc = 0.\n",
    "words = 'The quick brown fox jumps over the lazy dog'.split(' ')\n",
    "for n, x in enumerate(t):\n",
    "    ax.text(x, vc, '$t_{}$'.format(n), {'family': 'monospace', 'size': 16}, ha='center', va='top')\n",
    "\n",
    "plt.savefig('1-example_sequences.pdf', transparent=True, bbox_inches='tight', pad_inches=0.)"
   ]
  },
  {
   "cell_type": "code",
   "execution_count": null,
   "metadata": {
    "collapsed": true
   },
   "outputs": [],
   "source": [
    "match_length = 100\n",
    "crop = match_length/5\n",
    "def random_walk(N):\n",
    "    return np.cumsum(np.random.random_integers(-1, 1, N))/np.log(N)\n",
    "def random_sine(N):\n",
    "    return np.sin(np.linspace(0, 5*np.pi, N)*np.random.uniform(.9, 1.1) + np.random.uniform(0, 2*np.pi))\n",
    "\n",
    "match = random_sine(match_length + match_length/10)\n",
    "query = np.interp(np.arange(match_length),\n",
    "                  np.arange(match_length + match_length/10),\n",
    "                  match + .5*random_walk(match_length + match_length/10))\n",
    "match = match[match_length/10:] + .5*random_walk(match_length)\n",
    "match = (match - match.mean())/match.std()\n",
    "query = (query - query.mean())/query.std()\n",
    "\n",
    "D = np.subtract.outer(match, query[crop/2:-crop/2])**2\n",
    "p, q, score = djitw.dtw(D, inplace=False)"
   ]
  },
  {
   "cell_type": "code",
   "execution_count": null,
   "metadata": {
    "collapsed": false
   },
   "outputs": [],
   "source": [
    "ds = 3\n",
    "\n",
    "plt.figure(figsize=FIGSIZE)\n",
    "plt.plot(match - match.min(), GREEN, lw=2)\n",
    "plt.plot(query - query.max(), BLUE, lw=2)\n",
    "\n",
    "for n in range(0, match_length, ds) + [match_length - 1]:\n",
    "    plt.plot([n, n], [match[n] - match.min(), query[n] - query.max()], 'k:', lw=2)\n",
    "    \n",
    "plt.xlim(-1, plt.axis()[1])\n",
    "plt.axis('off')\n",
    "plt.savefig('1-example_distance_unwarped.pdf', transparent=True, bbox_inches='tight', pad_inches=0.1)\n",
    "\n",
    "plt.figure(figsize=FIGSIZE)\n",
    "plt.plot(match - match.min(), GREEN, lw=2)\n",
    "plt.plot(np.arange(crop/2, match_length - crop/2),\n",
    "         query[crop/2:-crop/2] - query[crop/2:-crop/2].max(), BLUE, lw=2)\n",
    "\n",
    "for p_n, q_n in zip(p[::ds], q[::ds]):\n",
    "    \n",
    "    plt.plot([p_n, q_n + crop/2],\n",
    "             [match[p_n] - match.min(), query[crop/2:-crop/2][q_n] - query[crop/2:-crop/2].max()],\n",
    "             'k:', lw=2)\n",
    "\n",
    "plt.plot([p[-1], q[-1] + crop/2],\n",
    "         [match[p[-1]] - match.min(), query[crop/2:-crop/2][q[-1]] - query[crop/2:-crop/2].max()],\n",
    "         'k:', lw=2)\n",
    "\n",
    "plt.xlim(-1, plt.axis()[1])\n",
    "plt.axis('off')\n",
    "plt.savefig('1-example_distance_warped.pdf', transparent=True, bbox_inches='tight', pad_inches=0.1)"
   ]
  }
 ],
 "metadata": {
  "kernelspec": {
   "display_name": "Python 2",
   "language": "python",
   "name": "python2"
  },
  "language_info": {
   "codemirror_mode": {
    "name": "ipython",
    "version": 2
   },
   "file_extension": ".py",
   "mimetype": "text/x-python",
   "name": "python",
   "nbconvert_exporter": "python",
   "pygments_lexer": "ipython2",
   "version": "2.7.11"
  }
 },
 "nbformat": 4,
 "nbformat_minor": 0
}
